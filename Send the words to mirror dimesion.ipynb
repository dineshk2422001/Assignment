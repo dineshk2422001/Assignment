{
 "cells": [
  {
   "cell_type": "code",
   "execution_count": 7,
   "id": "3b60ab1d",
   "metadata": {},
   "outputs": [
    {
     "name": "stdout",
     "output_type": "stream",
     "text": [
      "adoydE\n"
     ]
    }
   ],
   "source": [
    "#send the words to mirror dimension\n",
    "\n",
    "x=\"Edyoda\"\n",
    "mirror=\"\"\n",
    "for i in range(1, len(x)+1):\n",
    "    mirror+=x[-i]\n",
    "print(mirror)"
   ]
  },
  {
   "cell_type": "code",
   "execution_count": null,
   "id": "d3a4881c",
   "metadata": {},
   "outputs": [],
   "source": []
  },
  {
   "cell_type": "code",
   "execution_count": null,
   "id": "93998b32",
   "metadata": {},
   "outputs": [],
   "source": []
  }
 ],
 "metadata": {
  "kernelspec": {
   "display_name": "Python 3 (ipykernel)",
   "language": "python",
   "name": "python3"
  },
  "language_info": {
   "codemirror_mode": {
    "name": "ipython",
    "version": 3
   },
   "file_extension": ".py",
   "mimetype": "text/x-python",
   "name": "python",
   "nbconvert_exporter": "python",
   "pygments_lexer": "ipython3",
   "version": "3.9.12"
  }
 },
 "nbformat": 4,
 "nbformat_minor": 5
}
