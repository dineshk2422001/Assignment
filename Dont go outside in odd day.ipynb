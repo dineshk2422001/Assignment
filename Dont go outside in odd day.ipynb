{
 "cells": [
  {
   "cell_type": "code",
   "execution_count": 16,
   "id": "95997f96",
   "metadata": {},
   "outputs": [
    {
     "name": "stdout",
     "output_type": "stream",
     "text": [
      "Even Numbers 4\n",
      "Odd Numbers 5\n"
     ]
    }
   ],
   "source": [
    "x= (1,2,3,4,5,6,7,8,9)\n",
    "even = 0\n",
    "odd = 0\n",
    "\n",
    "for i in x:\n",
    "    if i%2 == 0:\n",
    "        even = even+1\n",
    "    else:\n",
    "        odd = odd+1\n",
    "print(\"Even Numbers\",even)\n",
    "print(\"Odd Numbers\",odd)"
   ]
  },
  {
   "cell_type": "code",
   "execution_count": 18,
   "id": "51b1653c",
   "metadata": {},
   "outputs": [
    {
     "name": "stdout",
     "output_type": "stream",
     "text": [
      "Even Numbers 4\n",
      "Odd Numbers 5\n"
     ]
    }
   ],
   "source": [
    "x=list(range(1,10))\n",
    "even = 0\n",
    "odd = 0\n",
    "\n",
    "for i in x:\n",
    "    if i%2 == 0:\n",
    "        even = even+1\n",
    "    else:\n",
    "        odd = odd+1\n",
    "print(\"Even Numbers\",even)\n",
    "print(\"Odd Numbers\",odd)"
   ]
  },
  {
   "cell_type": "code",
   "execution_count": null,
   "id": "f6e679cc",
   "metadata": {},
   "outputs": [],
   "source": []
  }
 ],
 "metadata": {
  "kernelspec": {
   "display_name": "Python 3 (ipykernel)",
   "language": "python",
   "name": "python3"
  },
  "language_info": {
   "codemirror_mode": {
    "name": "ipython",
    "version": 3
   },
   "file_extension": ".py",
   "mimetype": "text/x-python",
   "name": "python",
   "nbconvert_exporter": "python",
   "pygments_lexer": "ipython3",
   "version": "3.9.12"
  }
 },
 "nbformat": 4,
 "nbformat_minor": 5
}
